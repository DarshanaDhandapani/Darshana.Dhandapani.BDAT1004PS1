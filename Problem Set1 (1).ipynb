{
 "cells": [
  {
   "cell_type": "markdown",
   "id": "827bab13-2479-4a2e-9382-b1c6ccc94abd",
   "metadata": {},
   "source": [
    "Question 1 C#\n",
    "What data type is each of the following?\n",
    "\n",
    "5     :int\n",
    "5.0   :double\n",
    "5 > 1  :bool\n",
    "'5'    :char\n",
    "5 * 2  :int\n",
    "'5' * 2 :int (Multiplication of ASCII values)\n",
    "'5' + '2':string\n",
    "5 / 2    :int\n",
    "5 % 2    :int\n",
    "{5, 2, 1} :int[]\n",
    "5 == 3    :bool\n",
    "Pi (the number) :double"
   ]
  },
  {
   "cell_type": "markdown",
   "id": "ba376cea-61f1-47fc-91dd-d5860474a9e5",
   "metadata": {},
   "source": [
    "Question 2 C#\n",
    "Write (and evaluate) C# expressions that answer these questions:\n",
    "a. How many letters are there in 'Supercalifragilisticexpialidocious'?"
   ]
  },
  {
   "cell_type": "markdown",
   "id": "cfa3f5be-9df0-4e67-a316-1935526a9863",
   "metadata": {},
   "source": [
    "string word = \"Supercalifragilisticexpialidocious\";\n",
    "word.Length"
   ]
  },
  {
   "cell_type": "markdown",
   "id": "af0d8a23-0198-428e-a256-4cc18fc5e290",
   "metadata": {},
   "source": [
    "34"
   ]
  },
  {
   "cell_type": "markdown",
   "id": "4f7341c9-cd52-4bff-bbc9-60e2140fc670",
   "metadata": {},
   "source": [
    "b. Does 'Supercalifragilisticexpialidocious' contain 'ice' as a substring?"
   ]
  },
  {
   "cell_type": "markdown",
   "id": "39807354-c2b1-4395-9147-6454e3ee4beb",
   "metadata": {},
   "source": [
    "string substring = \"ice\";\n",
    "word.ToLower().Contains(substring)"
   ]
  },
  {
   "cell_type": "markdown",
   "id": "3362a2eb-d44c-4c7a-bd86-fc984a5dd18b",
   "metadata": {},
   "source": [
    "True"
   ]
  },
  {
   "cell_type": "markdown",
   "id": "e7ba0fbd-3d85-41eb-a048-1f80bd9978d1",
   "metadata": {},
   "source": [
    "c. Which of the following words is the longest:\n",
    "Supercalifragilisticexpialidocious, Honorificabilitudinitatibus, or Bababadalgharaghtakamminarronnkonn?"
   ]
  },
  {
   "cell_type": "markdown",
   "id": "8a44e875-4629-46fb-aa9d-dd8e5ce82c95",
   "metadata": {},
   "source": [
    "string word1 = \"Supercalifragilisticexpialidocious\";\n",
    "string word2 = \"Honorificabilitudinitatibus\";\n",
    "string word3 = \"Bababadalgharaghtakamminarronnkonn\";\n",
    "\n",
    "int maxLength = Math.Max(word1.Length, Math.Max(word2.Length, word3.Length));\n",
    "\n",
    "if (word1.Length == maxLength) {\n",
    "    Console.WriteLine(\"Supercalifragilisticexpialidocious is the longest word\");\n",
    "} else if (word2.Length == maxLength) {\n",
    "    Console.WriteLine(\"Honorificabilitudinitatibus is the longest word\");\n",
    "} else {\n",
    "    Console.WriteLine(\"Bababadalgharaghtakamminarronnkonn is the longest word\");\n",
    "}"
   ]
  },
  {
   "cell_type": "markdown",
   "id": "2b10eb94-d7b4-4c66-a259-2e6537b3e56c",
   "metadata": {},
   "source": [
    "Supercalifragilisticexpialidocious is the longest word"
   ]
  },
  {
   "cell_type": "markdown",
   "id": "593074dd-ece3-4881-894c-5502ff910634",
   "metadata": {},
   "source": [
    "d. Which composer comes first in the dictionary: 'Berlioz', 'Borodin', 'Brian',\n",
    "'Bartok', 'Bellini', 'Buxtehude', 'Bernstein'. Which one comes last?"
   ]
  },
  {
   "cell_type": "markdown",
   "id": "a66d6c64-f93f-464e-9aab-ca5268b542b6",
   "metadata": {},
   "source": [
    "string[] unsortedStrings = { \"Berlioz\", \"Borodin\", \"Brian\", \"Bartok\", \"Bellini\", \"Buxtehude\", \"Bernstein\" };\n",
    "string[] sortedStrings = unsortedStrings.OrderBy(s => s).ToArray();"
   ]
  },
  {
   "cell_type": "markdown",
   "id": "d3ee5126-0649-459d-8329-e85c2900eaca",
   "metadata": {},
   "source": [
    "foreach (var str in sortedStrings)\n",
    "{\n",
    "    Console.WriteLine(str);\n",
    "}"
   ]
  },
  {
   "cell_type": "markdown",
   "id": "3cbc5c24-7ab3-4bd5-97bc-f790f3c8d289",
   "metadata": {},
   "source": [
    "Bartok\n",
    "Bellini\n",
    "Berlioz\n",
    "Bernstein\n",
    "Borodin\n",
    "Brian\n",
    "Buxtehude"
   ]
  },
  {
   "cell_type": "markdown",
   "id": "d1c34061-bab1-4d63-b1c4-af552cca986c",
   "metadata": {},
   "source": [
    "var Last = sortedStrings.Last();\n",
    "var First = sortedStrings.First();\n",
    "Console.WriteLine($\"First composer: {First}\");\n",
    "Console.Write($\"Last composer: {Last}\");"
   ]
  },
  {
   "cell_type": "markdown",
   "id": "ebba9c90-5f64-4a08-bd6e-0c8aabd8a6ab",
   "metadata": {},
   "source": [
    "First composer: Bartok\n",
    "Last composer: Buxtehude"
   ]
  },
  {
   "cell_type": "markdown",
   "id": "2ee761f6-047d-4a86-b569-067dd3e797fa",
   "metadata": {},
   "source": [
    "Question 3 C#\n",
    "Implement function triangleArea(a,b,c) that takes as input the lengths of the 3\n",
    "sides of a triangle and returns the area of the triangle. By Heron's formula, the area\n",
    "of a triangle with side lengths a, b, and c is s(s − a)(s − b)(s − c), where\n",
    "s = (a + b + c)/2.\n",
    ">>> triangleArea(2,2,2)\n",
    "1.7320508075688772"
   ]
  },
  {
   "cell_type": "markdown",
   "id": "866c3833-cdf6-40eb-a8e9-4e6867d2386a",
   "metadata": {},
   "source": [
    "public static double triangleArea(double a, double b, double c) {\n",
    "    double s = (a + b + c) / 2;\n",
    "    double area = Math.Sqrt(s * (s - a) * (s - b) * (s - c));\n",
    "    \n",
    "    return area;\n",
    "}\n",
    "Console.WriteLine(triangleArea(2, 2, 2))"
   ]
  },
  {
   "cell_type": "markdown",
   "id": "c51cf0b3-7333-499c-b90e-7109b689365a",
   "metadata": {},
   "source": [
    "1.7320508075688772"
   ]
  },
  {
   "cell_type": "markdown",
   "id": "c4175069-88a1-407c-a5ca-159937afc345",
   "metadata": {},
   "source": [
    "Question 4 C#\n",
    "Write a program in C# Sharp to separate odd and even integers in separate arrays.\n",
    "Go to the editor\n",
    "Test Data :\n",
    "Input the number of elements to be stored in the array :5\n",
    "Input 5 elements in the array :\n",
    "element - 0 : 25\n",
    "element - 1 : 47\n",
    "element - 2 : 42\n",
    "element - 3 : 56\n",
    "element - 4 : 32\n",
    "Expected Output:\n",
    "The Even elements are:\n",
    "42 56 32\n",
    "The Odd elements are :\n",
    "25 47"
   ]
  },
  {
   "cell_type": "markdown",
   "id": "b353a68c-4ed0-47d9-80ae-afb943ac8554",
   "metadata": {},
   "source": [
    "public void Separate_Odd_Even()\n",
    "{\n",
    "    Console.WriteLine(\"Input the number of elements to be stored in the array: 5\");\n",
    "\n",
    "    int[] elements = new int[5] {25, 47, 42, 56, 32};\n",
    "    int[] oddNumber = new int[5];\n",
    "    int[] evenNumber = new int[5];\n",
    "\n",
    "    int oddCount = 0;\n",
    "    int evenCount = 0;\n",
    "\n",
    "    foreach (var number in elements) \n",
    "    {\n",
    "        if (number % 2 == 0) {\n",
    "            evenNumber[evenCount] = number;\n",
    "            evenCount++;\n",
    "        } else {\n",
    "            oddNumber[oddCount] = number;\n",
    "            oddCount++;\n",
    "        }\n",
    "    }\n",
    "    Console.WriteLine(\"Even Numbers:\");\n",
    "    for (int i = 0; i < evenCount; i++)\n",
    "    {\n",
    "        Console.Write(evenNumber[i] + \" \");\n",
    "    }\n",
    "\n",
    "    Console.WriteLine(\"\\n\\nOdd Numbers:\");\n",
    "    for (int i = 0; i < oddCount; i++)\n",
    "    {\n",
    "        Console.Write(oddNumber[i] + \" \");\n",
    "    }\n",
    "}\n",
    "\n",
    "Separate_Odd_Even()"
   ]
  },
  {
   "cell_type": "markdown",
   "id": "abde5152-4fcc-4e0b-8349-ec1952929ada",
   "metadata": {},
   "source": [
    "Input the number of elements to be stored in the array: 5\n",
    "Even Numbers:\n",
    "42 56 32 \n",
    "\n",
    "Odd Numbers:\n",
    "25 47 "
   ]
  },
  {
   "cell_type": "markdown",
   "id": "0790ac3e-6ce0-4299-8e08-030f1f59c96d",
   "metadata": {},
   "source": [
    "Question 5 C#\n",
    "a. Write a function inside(x,y,x1,y1,x2,y2) that returns True or False\n",
    "depending on whether the point (x,y) lies in the rectangle with lower left\n",
    "corner (x1,y1) and upper right corner (x2,y2)."
   ]
  },
  {
   "cell_type": "markdown",
   "id": "000acad5-5914-4842-9102-caba19801893",
   "metadata": {},
   "source": [
    "using System;\n",
    "\n",
    "public class Program\n",
    "{\n",
    "    public static bool Inside(double x, double y, double x1, double y1, double x2, double y2)\n",
    "    {\n",
    "        return (x >= x1 && x <= x2 && y >= y1 && y <= y2);\n",
    "    }\n",
    "\n",
    "    public static void Main()\n",
    "    {\n",
    "        Console.WriteLine(Inside(1, 1, 0, 0, 2, 3)); \n",
    "        Console.WriteLine(Inside(-1, -1, 0, 0, 2, 3)); \n",
    "    }\n",
    "}\n",
    "Program.Main()"
   ]
  },
  {
   "cell_type": "markdown",
   "id": "5d16758a-a6a3-48f3-a9bb-f2f4027c7504",
   "metadata": {},
   "source": [
    "True\n",
    "False"
   ]
  },
  {
   "cell_type": "markdown",
   "id": "f773a40b-4242-401e-b8c1-d9cc7b3ed5f2",
   "metadata": {},
   "source": [
    "Use function inside() from part a. to write an expression that tests whether\n",
    "the point (1,1) lies in both of the following rectangles: one with lower left\n",
    "corner (0.3, 0.5) and upper right corner (1.1, 0.7) and the other with lower\n",
    "left corner (0.5, 0.2) and upper right corner (1.1, 2)."
   ]
  },
  {
   "cell_type": "markdown",
   "id": "dcacb286-66c4-46b9-981b-59f11f464f72",
   "metadata": {},
   "source": [
    "bool inFirstRectangle = Inside(1, 1, 0.3, 0.5, 1.1, 0.7);\n",
    "Console.WriteLine($\"Point (1, 1) in Rectangle 1: {inFirstRectangle}\"); \n",
    "\n",
    "bool inSecondRectangle = Inside(1, 1, 0.5, 0.2, 1.1, 2);\n",
    "Console.WriteLine($\"Point (1, 1) in Rectangle 2: {inSecondRectangle}\");"
   ]
  },
  {
   "cell_type": "markdown",
   "id": "c44eac62-84f4-463d-b609-339c8c53eec9",
   "metadata": {},
   "source": [
    "Point (1, 1) in Rectangle 1: False\n",
    "Point (1, 1) in Rectangle 2: True"
   ]
  },
  {
   "cell_type": "markdown",
   "id": "adf456a0-d9c5-4277-b814-211382cb4bb3",
   "metadata": {},
   "source": [
    "Question 6 Python\n",
    "You can turn a word into pig-Latin using the following two rules (simplified):\n",
    "• If the word starts with a consonant, move that letter to the end and append\n",
    "'ay'. For example, 'happy' becomes 'appyhay' and 'pencil' becomes 'encilpay'.\n",
    "• If the word starts with a vowel, simply append 'way' to the end of the word.\n",
    "For example, 'enter' becomes 'enterway' and 'other' becomes 'otherway' . For\n",
    "our purposes, there are 5 vowels: a, e, i, o, u (so we count y as a consonant).\n",
    "Write a function pig() that takes a word (i.e., a string) as input and returns its pig-\n",
    "Latin form. Your function should still work if the input word contains upper case\n",
    "characters. Your output should always be lower case however\n",
    ">>> pig('happy')\r\n",
    "'appyhay'\r\n",
    ">>> pig('Enter')\r\n",
    "'enterway'"
   ]
  },
  {
   "cell_type": "code",
   "execution_count": 17,
   "id": "ef9055f0-92df-42b3-ac3d-c9ef3dc8550a",
   "metadata": {},
   "outputs": [
    {
     "name": "stdout",
     "output_type": "stream",
     "text": [
      "appyhay\n",
      "enterway\n"
     ]
    }
   ],
   "source": [
    "def pig(word):\n",
    "    word = word.lower()\n",
    "    vowels = 'aeiou'\n",
    "    if word[0] in vowels:\n",
    "        return word + 'way'\n",
    "    else:\n",
    "        return word[1:] + word[0] + 'ay'\n",
    "\n",
    "# Testing the function\n",
    "print(pig('happy'))  \n",
    "print(pig('Enter'))  \n"
   ]
  },
  {
   "cell_type": "markdown",
   "id": "0c440916-ebc6-4c85-b878-7ad0c0ab2cff",
   "metadata": {},
   "source": [
    "Question 7 Python\n",
    "File bloodtype1.txt records blood-types of patients (A, B, AB, O or OO) at a clinic.\n",
    "Write a function bldcount() that reads the file with name name and reports (i.e.,\n",
    "prints) how many patients there are in each bloodtype"
   ]
  },
  {
   "cell_type": "markdown",
   "id": "3f2dc398-25c1-4761-a22d-207c0c711f29",
   "metadata": {},
   "source": [
    "import pandas as pd\n",
    "\n",
    "with open('./DataSets/bloodtype1.txt', 'r') as file:\n",
    "    blood_types = file.readline().strip()\n",
    "\n",
    "blood_list = blood_types.split()\n",
    "\n",
    "df_blood = pd.DataFrame(blood_list, columns=['Blood Type'])\n",
    "\n",
    "blood_count = df_blood.value_counts()\n",
    "blood_count"
   ]
  },
  {
   "cell_type": "markdown",
   "id": "5eb14dd3-1316-4d6a-8a6e-99b7a523d66a",
   "metadata": {},
   "source": [
    "Blood Type\n",
    "A             15\n",
    "O             15\n",
    "AB            13\n",
    "B              1\n",
    "Name: count, dtype: int64"
   ]
  },
  {
   "cell_type": "markdown",
   "id": "b255af2f-246c-4af5-b4bd-35e6fc95d8f2",
   "metadata": {},
   "source": [
    "Question 8 Python\n",
    "Write a function curconv() that takes as input:\n",
    "1. a currency represented using a string (e.g., 'JPY' for the Japanese Yen or\n",
    "'EUR' for the Euro)\n",
    "2. an amount\n",
    "and then converts and returns the amount in US dollars."
   ]
  },
  {
   "cell_type": "markdown",
   "id": "8239cad2-64c3-4f57-8bbe-eba832e44eee",
   "metadata": {},
   "source": [
    "df = pd.read_csv('./DataSets/currencies.txt', sep='\\t', header=None, index_col=0) \n",
    "df.columns= ['Amount', 'Currency Name']\n",
    "df.head()\n",
    "def curconv(name, amount):\n",
    "  cur = df.loc[name, 'Amount']\n",
    "  amount = cur * amount\n",
    "  return amount\n",
    "\n",
    "print(curconv('EUR', 100))\n",
    "print(curconv('JPY', 100))"
   ]
  },
  {
   "cell_type": "markdown",
   "id": "6a6f3e2f-ce41-40ce-87fc-9e8540834d28",
   "metadata": {},
   "source": [
    "122.96544\n",
    "1.241401"
   ]
  },
  {
   "cell_type": "markdown",
   "id": "8e9ac23a-aae3-4b17-bc86-236c6f93f948",
   "metadata": {},
   "source": [
    "Question 9 Python\n",
    "Each of the following will cause an exception (an error). Identify what type of\n",
    "exception each will cause.\n",
    "\n",
    "Trying to add incompatible variables, as in\n",
    "adding 6 + ‘a’ :TypeError\n",
    "Referring to the 12th item of a list that has only 10\n",
    "items :IndexError\n",
    "Using a value that is out of range for a function’s\n",
    "input, such as calling math.sqrt(-1.0) :ValueError\n",
    "Using an undeclared variable, such as print(x)\n",
    "when x has not been defined :NameError\n",
    "Trying to open a file that does not exist, such as\n",
    "mistyping the file name or looking in the wrong\n",
    "directory :FileNotFoundError"
   ]
  },
  {
   "cell_type": "code",
   "execution_count": 20,
   "id": "e89dc65a-da1c-4d91-ab46-384b37577aa4",
   "metadata": {
    "scrolled": true
   },
   "outputs": [
    {
     "ename": "TypeError",
     "evalue": "unsupported operand type(s) for +: 'int' and 'str'",
     "output_type": "error",
     "traceback": [
      "\u001b[1;31m---------------------------------------------------------------------------\u001b[0m",
      "\u001b[1;31mTypeError\u001b[0m                                 Traceback (most recent call last)",
      "Cell \u001b[1;32mIn[20], line 1\u001b[0m\n\u001b[1;32m----> 1\u001b[0m \u001b[38;5;241m6\u001b[39m \u001b[38;5;241m+\u001b[39m \u001b[38;5;124m'\u001b[39m\u001b[38;5;124ma\u001b[39m\u001b[38;5;124m'\u001b[39m\n",
      "\u001b[1;31mTypeError\u001b[0m: unsupported operand type(s) for +: 'int' and 'str'"
     ]
    }
   ],
   "source": [
    "6 + 'a'"
   ]
  },
  {
   "cell_type": "code",
   "execution_count": 21,
   "id": "2feecf78-fbb4-4e46-966e-730e3c66acb9",
   "metadata": {},
   "outputs": [
    {
     "ename": "IndexError",
     "evalue": "list index out of range",
     "output_type": "error",
     "traceback": [
      "\u001b[1;31m---------------------------------------------------------------------------\u001b[0m",
      "\u001b[1;31mIndexError\u001b[0m                                Traceback (most recent call last)",
      "Cell \u001b[1;32mIn[21], line 2\u001b[0m\n\u001b[0;32m      1\u001b[0m array \u001b[38;5;241m=\u001b[39m \u001b[38;5;28mlist\u001b[39m(\u001b[38;5;28mrange\u001b[39m(\u001b[38;5;241m1\u001b[39m, \u001b[38;5;241m11\u001b[39m))\n\u001b[1;32m----> 2\u001b[0m array[\u001b[38;5;241m12\u001b[39m]\n",
      "\u001b[1;31mIndexError\u001b[0m: list index out of range"
     ]
    }
   ],
   "source": [
    "array = list(range(1, 11))\n",
    "array[12]"
   ]
  },
  {
   "cell_type": "code",
   "execution_count": 22,
   "id": "fa665832-1ee7-4cf7-a375-d297e529e63e",
   "metadata": {},
   "outputs": [
    {
     "ename": "ValueError",
     "evalue": "math domain error",
     "output_type": "error",
     "traceback": [
      "\u001b[1;31m---------------------------------------------------------------------------\u001b[0m",
      "\u001b[1;31mValueError\u001b[0m                                Traceback (most recent call last)",
      "Cell \u001b[1;32mIn[22], line 2\u001b[0m\n\u001b[0;32m      1\u001b[0m \u001b[38;5;28;01mimport\u001b[39;00m \u001b[38;5;21;01mmath\u001b[39;00m\n\u001b[1;32m----> 2\u001b[0m math\u001b[38;5;241m.\u001b[39msqrt(\u001b[38;5;241m-\u001b[39m\u001b[38;5;241m1.0\u001b[39m)\n",
      "\u001b[1;31mValueError\u001b[0m: math domain error"
     ]
    }
   ],
   "source": [
    "import math\n",
    "math.sqrt(-1.0)"
   ]
  },
  {
   "cell_type": "code",
   "execution_count": 23,
   "id": "ef3b5daa-da8c-4163-a56b-c0dde12b7f40",
   "metadata": {},
   "outputs": [
    {
     "ename": "NameError",
     "evalue": "name 'x' is not defined",
     "output_type": "error",
     "traceback": [
      "\u001b[1;31m---------------------------------------------------------------------------\u001b[0m",
      "\u001b[1;31mNameError\u001b[0m                                 Traceback (most recent call last)",
      "Cell \u001b[1;32mIn[23], line 1\u001b[0m\n\u001b[1;32m----> 1\u001b[0m \u001b[38;5;28mprint\u001b[39m(x)\n",
      "\u001b[1;31mNameError\u001b[0m: name 'x' is not defined"
     ]
    }
   ],
   "source": [
    "print(x)"
   ]
  },
  {
   "cell_type": "code",
   "execution_count": 24,
   "id": "6f0ada48-c413-4a97-b9b4-3c5c09e935c3",
   "metadata": {},
   "outputs": [
    {
     "ename": "FileNotFoundError",
     "evalue": "[Errno 2] No such file or directory: 'nonexistent_file.txt'",
     "output_type": "error",
     "traceback": [
      "\u001b[1;31m---------------------------------------------------------------------------\u001b[0m",
      "\u001b[1;31mFileNotFoundError\u001b[0m                         Traceback (most recent call last)",
      "Cell \u001b[1;32mIn[24], line 1\u001b[0m\n\u001b[1;32m----> 1\u001b[0m \u001b[38;5;28;01mwith\u001b[39;00m \u001b[38;5;28mopen\u001b[39m(\u001b[38;5;124m'\u001b[39m\u001b[38;5;124mnonexistent_file.txt\u001b[39m\u001b[38;5;124m'\u001b[39m) \u001b[38;5;28;01mas\u001b[39;00m f:\n\u001b[0;32m      2\u001b[0m         content \u001b[38;5;241m=\u001b[39m f\u001b[38;5;241m.\u001b[39mread()\n",
      "File \u001b[1;32m~\\Downloads\\ANACONDA\\Lib\\site-packages\\IPython\\core\\interactiveshell.py:324\u001b[0m, in \u001b[0;36m_modified_open\u001b[1;34m(file, *args, **kwargs)\u001b[0m\n\u001b[0;32m    317\u001b[0m \u001b[38;5;28;01mif\u001b[39;00m file \u001b[38;5;129;01min\u001b[39;00m {\u001b[38;5;241m0\u001b[39m, \u001b[38;5;241m1\u001b[39m, \u001b[38;5;241m2\u001b[39m}:\n\u001b[0;32m    318\u001b[0m     \u001b[38;5;28;01mraise\u001b[39;00m \u001b[38;5;167;01mValueError\u001b[39;00m(\n\u001b[0;32m    319\u001b[0m         \u001b[38;5;124mf\u001b[39m\u001b[38;5;124m\"\u001b[39m\u001b[38;5;124mIPython won\u001b[39m\u001b[38;5;124m'\u001b[39m\u001b[38;5;124mt let you open fd=\u001b[39m\u001b[38;5;132;01m{\u001b[39;00mfile\u001b[38;5;132;01m}\u001b[39;00m\u001b[38;5;124m by default \u001b[39m\u001b[38;5;124m\"\u001b[39m\n\u001b[0;32m    320\u001b[0m         \u001b[38;5;124m\"\u001b[39m\u001b[38;5;124mas it is likely to crash IPython. If you know what you are doing, \u001b[39m\u001b[38;5;124m\"\u001b[39m\n\u001b[0;32m    321\u001b[0m         \u001b[38;5;124m\"\u001b[39m\u001b[38;5;124myou can use builtins\u001b[39m\u001b[38;5;124m'\u001b[39m\u001b[38;5;124m open.\u001b[39m\u001b[38;5;124m\"\u001b[39m\n\u001b[0;32m    322\u001b[0m     )\n\u001b[1;32m--> 324\u001b[0m \u001b[38;5;28;01mreturn\u001b[39;00m io_open(file, \u001b[38;5;241m*\u001b[39margs, \u001b[38;5;241m*\u001b[39m\u001b[38;5;241m*\u001b[39mkwargs)\n",
      "\u001b[1;31mFileNotFoundError\u001b[0m: [Errno 2] No such file or directory: 'nonexistent_file.txt'"
     ]
    }
   ],
   "source": [
    "with open('nonexistent_file.txt') as f:\n",
    "        content = f.read()"
   ]
  },
  {
   "cell_type": "markdown",
   "id": "a51e8901-bff4-444e-b575-af981b413ce3",
   "metadata": {},
   "source": [
    "Question 10 Python\n",
    "Encryption is the process of hiding the meaning of a text by substituting letters in the\n",
    "message with other letters, according to some system. If the process is successful, no\n",
    "one but the intended recipient can understand the encrypted message. Cryptanalysis\n",
    "refers to attempts to undo the encryption, even if some details of the encryption are\n",
    "unknown (for example, if an encrypted message has been intercepted). The first step\n",
    "of cryptanalysis is often to build up a table of letter frequencies in the encrypted text.\n",
    "Assume that the string letters is already defined as\n",
    "'abcdefghijklmnopqrstuvwxyz'. Write a function called frequencies()\n",
    "that takes a string as its only parameter, and returns a list of integers, showing the\n",
    "number of times each character appears in the text. Your function may ignore any\n",
    "characters that are not in letters.\n",
    ">>> frequencies('The quick red fox got bored and went home.')\n",
    "[1, 1, 1, 3, 5, 1, 1, 2, 1, 0, 1, 0, 1, 2, 4, 0, 1, 2, 0, 2,\n",
    "1, 0, 1, 1, 0, 0]\n",
    ">>> frequencies('apple')\n"
   ]
  },
  {
   "cell_type": "code",
   "execution_count": 25,
   "id": "d271b478-e718-4e45-88fe-faf075156dbc",
   "metadata": {},
   "outputs": [
    {
     "name": "stdout",
     "output_type": "stream",
     "text": [
      "[1, 1, 1, 3, 5, 1, 1, 2, 1, 0, 1, 0, 1, 2, 4, 0, 1, 2, 0, 3, 1, 0, 1, 1, 0, 0]\n",
      "[1, 0, 0, 0, 1, 0, 0, 0, 0, 0, 0, 1, 0, 0, 0, 2, 0, 0, 0, 0, 0, 0, 0, 0, 0, 0]\n"
     ]
    }
   ],
   "source": [
    "def frequencies(text):\n",
    "    letters = 'abcdefghijklmnopqrstuvwxyz'\n",
    "    freq_list = [0] * 26\n",
    "    \n",
    "    for char in text.lower():\n",
    "        if char in letters:\n",
    "            index = letters.index(char)\n",
    "            freq_list[index] += 1\n",
    "    \n",
    "    return freq_list\n",
    "\n",
    "# Testing the function\n",
    "print(frequencies('The quick red fox got bored and went home.'))\n",
    "\n",
    "print(frequencies('apple'))\n",
    "\n"
   ]
  }
 ],
 "metadata": {
  "kernelspec": {
   "display_name": "Python 3 (ipykernel)",
   "language": "python",
   "name": "python3"
  },
  "language_info": {
   "codemirror_mode": {
    "name": "ipython",
    "version": 3
   },
   "file_extension": ".py",
   "mimetype": "text/x-python",
   "name": "python",
   "nbconvert_exporter": "python",
   "pygments_lexer": "ipython3",
   "version": "3.12.4"
  }
 },
 "nbformat": 4,
 "nbformat_minor": 5
}
